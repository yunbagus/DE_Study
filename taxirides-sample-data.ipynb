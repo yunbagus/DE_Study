{
 "cells": [
  {
   "cell_type": "code",
   "execution_count": null,
   "id": "f9b7d61a",
   "metadata": {},
   "outputs": [],
   "source": [
    "{\"ride_id\":\"7437869d-acc8-4007-8240-b297e921a676\",\"point_idx\":30,\"latitude\":40.724720000000005,\"longitude\":-73.99503,\"timestamp\":\"2024-03-03T18:17:35.87446-05:00\",\"meter_reading\":0.9685715,\"meter_increment\":0.032285716,\"ride_status\":\"enroute\",\"passenger_count\":1}\n",
    "{\"ride_id\":\"2aad0cfa-e4c1-40a4-93bd-17a215de481e\",\"point_idx\":113,\"latitude\":40.674040000000005,\"longitude\":-73.98237,\"timestamp\":\"2024-03-03T18:17:35.87897-05:00\",\"meter_reading\":5.203947,\"meter_increment\":0.04605263,\"ride_status\":\"enroute\",\"passenger_count\":1}\t\n",
    "{\"ride_id\":\"3a9d28ee-c88c-48dc-9b0f-c87677fcd458\",\"point_idx\":224,\"latitude\":40.75095,\"longitude\":-73.96553,\"timestamp\":\"2024-03-03T18:17:35.87925-05:00\",\"meter_reading\":4.810738,\"meter_increment\":0.021476509,\"ride_status\":\"enroute\",\"passenger_count\":6}\n",
    "{\"ride_id\":\"0c8d94a7-043d-43a1-8489-6daf88afa6fb\",\"point_idx\":901,\"latitude\":40.72626,\"longitude\":-73.90439,\"timestamp\":\"2024-03-03T18:17:35.87997-05:00\",\"meter_reading\":19.308014,\"meter_increment\":0.021429539,\"ride_status\":\"enroute\",\"passenger_count\":1}\n",
    "{\"ride_id\":\"c612cca9-5614-472f-9193-b0e5200b3f0c\",\"point_idx\":95,\"latitude\":40.750330000000005,\"longitude\":-73.9911,\"timestamp\":\"2024-03-03T18:17:35.8816-05:00\",\"meter_reading\":5.985,\"meter_increment\":0.063,\"ride_status\":\"enroute\",\"passenger_count\":1}\n",
    "{\"ride_id\":\"07ced307-f800-4950-bb06-383315972fbb\",\"point_idx\":6,\"latitude\":40.76995,\"longitude\":-73.95506,\"timestamp\":\"2024-03-03T18:17:35.88377-05:00\",\"meter_reading\":0.28695655,\"meter_increment\":0.04782609,\"ride_status\":\"enroute\",\"passenger_count\":2}\n",
    "{\"ride_id\":\"c85e0a2b-e8f3-4bcb-9086-360ea0c5e9ef\",\"point_idx\":938,\"latitude\":40.76944,\"longitude\":-73.91305000000001,\"timestamp\":\"2024-03-03T18:17:35.88484-05:00\",\"meter_reading\":16.89289,\"meter_increment\":0.018009478,\"ride_status\":\"enroute\",\"passenger_count\":5}\n",
    "passenger_count\":5}\n",
    "\t\n",
    "{\"ride_id\":\"216f4d79-8116-45b0-b574-262877c76371\",\"point_idx\":580,\"latitude\":40.6875,\"longitude\":-73.97995,\"timestamp\":\"2024-03-03T18:17:35.88523-05:00\",\"meter_reading\":13.943101,\"meter_increment\":0.02403983,\"ride_status\":\"enroute\",\"passenger_count\":1}\n",
    "{\"ride_id\":\"216f4d79-8116-45b0-b574-262877c76371\",\"point_idx\":580,\"latitude\":40.6875,\"longitude\":-73.97995,\"timestamp\":\"2024-03-03T18:17:35.88523-05:00\",\"meter_reading\":13.943101,\"meter_increment\":0.02403983,\"ride_status\":\"enroute\",\"passenger_count\":1}\n",
    "{\"ride_id\":\"9d6eeaf7-8e07-4dd6-aea6-8524a4c0480d\",\"point_idx\":381,\"latitude\":40.75732,\"longitude\":-73.90027,\"timestamp\":\"2024-03-03T18:17:35.88723-05:00\",\"meter_reading\":10.359928,\"meter_increment\":0.027191414,\"ride_status\":\"enroute\",\"passenger_count\":2}"
   ]
  }
 ],
 "metadata": {
  "kernelspec": {
   "display_name": "Python 3 (ipykernel)",
   "language": "python",
   "name": "python3"
  },
  "language_info": {
   "codemirror_mode": {
    "name": "ipython",
    "version": 3
   },
   "file_extension": ".py",
   "mimetype": "text/x-python",
   "name": "python",
   "nbconvert_exporter": "python",
   "pygments_lexer": "ipython3",
   "version": "3.9.13"
  }
 },
 "nbformat": 4,
 "nbformat_minor": 5
}
