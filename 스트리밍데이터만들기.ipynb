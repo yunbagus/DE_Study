{
 "cells": [
  {
   "cell_type": "code",
   "execution_count": null,
   "id": "d1b2ba2d",
   "metadata": {},
   "outputs": [],
   "source": [
    "import datetime, json, os, random, time\n",
    "\n",
    "project = 'datapipeline-datapipeline-415320'\n",
    "\n",
    "FIRST_NAME = [\n",
    "    'Monet', 'Julia' , 'Stephane', 'Allan', 'Ulrike', 'Vella','Melia','Noel','Hui','Von'  \n",
    "]\n",
    "\n",
    "CITIES = [ \n",
    "    'Washington', 'Springfield', 'Franklin','Greenvile', 'Bristol','Fairview', 'Salem', 'Medison'   \n",
    "]\n",
    "\n",
    "STATE = [\n",
    "    'MO', 'SC' , 'IN', 'CA', 'IA', 'DE', 'ID', 'AK', 'NE', 'VA', 'PR', 'IL', 'ND'\n",
    "]\n",
    "\n",
    "PRODUCTS = ['Product 2', 'Product 2 XL','Product 3', 'Product 3 XL','Product 4', 'Product 4 XL','Product 5', 'Product 5 XL']\n",
    "\n",
    "while True:\n",
    "    first_name, last_name = random.sample(FIRST_NAME, 2)\n",
    "    date = {\n",
    "        'tr_time_str' : datetime.datetime.now().strftime(\"%Y-%m-%d %H:%M:%S\"),\n",
    "    }"
   ]
  }
 ],
 "metadata": {
  "kernelspec": {
   "display_name": "Python 3 (ipykernel)",
   "language": "python",
   "name": "python3"
  },
  "language_info": {
   "codemirror_mode": {
    "name": "ipython",
    "version": 3
   },
   "file_extension": ".py",
   "mimetype": "text/x-python",
   "name": "python",
   "nbconvert_exporter": "python",
   "pygments_lexer": "ipython3",
   "version": "3.9.13"
  }
 },
 "nbformat": 4,
 "nbformat_minor": 5
}
