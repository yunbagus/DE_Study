{
 "cells": [
  {
   "cell_type": "code",
   "execution_count": 2,
   "id": "6bbf43ce",
   "metadata": {},
   "outputs": [
    {
     "name": "stdout",
     "output_type": "stream",
     "text": [
      "Original DataFrame:\n",
      "     A    B       C\n",
      "0  1.0  5.0   apple\n",
      "1  2.0  NaN  banana\n",
      "2  NaN  7.0  cherry\n",
      "3  4.0  8.0    date\n"
     ]
    }
   ],
   "source": [
    "import pandas as pd\n",
    "import numpy as np\n",
    "\n",
    "# 예시 데이터 프레임 생성\n",
    "data = {'A': [1, 2, np.nan, 4],\n",
    "        'B': [5, np.nan, 7, 8],\n",
    "        'C': ['apple', 'banana', 'cherry', 'date']}\n",
    "df = pd.DataFrame(data)\n",
    "print(\"Original DataFrame:\")\n",
    "print(df)"
   ]
  },
  {
   "cell_type": "code",
   "execution_count": 13,
   "id": "435007ea",
   "metadata": {},
   "outputs": [
    {
     "name": "stdout",
     "output_type": "stream",
     "text": [
      "nan\n"
     ]
    }
   ],
   "source": [
    "# 1. ix 함수 (참고: ix 함수는 더 이상 사용되지 않으므로 loc 또는 iloc을 사용하는 것이 좋습니다.)\n",
    "# 특정 행과 열에 접근, 컬럼명으로\n",
    "row_index = 1\n",
    "col_name = 'B'\n",
    "value_at_1B = df.loc[row_index, col_name]\n",
    "print(value_at_1B)"
   ]
  },
  {
   "cell_type": "code",
   "execution_count": 7,
   "id": "cfb7ab8d",
   "metadata": {},
   "outputs": [
    {
     "name": "stdout",
     "output_type": "stream",
     "text": [
      "nan\n"
     ]
    }
   ],
   "source": [
    "#위치 중심으로 \n",
    "value_1Biloc=df.iloc[1,1]\n",
    "print(value_1Biloc)"
   ]
  },
  {
   "cell_type": "code",
   "execution_count": 13,
   "id": "768e5949",
   "metadata": {},
   "outputs": [
    {
     "name": "stdout",
     "output_type": "stream",
     "text": [
      "DataFrame after dropping column 'A':\n",
      "     B       C\n",
      "0  5.0   apple\n",
      "1  NaN  banana\n",
      "2  7.0  cherry\n",
      "3  8.0    date\n"
     ]
    }
   ],
   "source": [
    "# 2. drop 함수\n",
    "# 열 삭제\n",
    "df_dropped = df.drop('A', axis=1)\n",
    "print(\"DataFrame after dropping column 'A':\")\n",
    "print(df_dropped)"
   ]
  },
  {
   "cell_type": "code",
   "execution_count": 12,
   "id": "1e5c3317",
   "metadata": {},
   "outputs": [
    {
     "name": "stdout",
     "output_type": "stream",
     "text": [
      "DataFrame after renaming column 'B' to 'New_B':\n",
      "     A  New_B       C\n",
      "0  1.0    5.0   apple\n",
      "1  2.0    NaN  banana\n",
      "2  NaN    7.0  cherry\n",
      "3  4.0    8.0    date\n"
     ]
    }
   ],
   "source": [
    "# 3. rename 함수\n",
    "# 열 이름 변경\n",
    "df_renamed = df.rename(columns={'B': 'New_B'})\n",
    "print(\"DataFrame after renaming column 'B' to 'New_B':\")\n",
    "print(df_renamed)"
   ]
  },
  {
   "cell_type": "code",
   "execution_count": 8,
   "id": "fec72b4b",
   "metadata": {},
   "outputs": [
    {
     "name": "stdout",
     "output_type": "stream",
     "text": [
      "DataFrame after dropping rows with NaN values:\n",
      "     A    B      C\n",
      "0  1.0  5.0  apple\n",
      "3  4.0  8.0   date\n"
     ]
    }
   ],
   "source": [
    "# 4. dropna 함수\n",
    "# NaN 값을 가진 행 삭제\n",
    "df_dropped_na = df.dropna()\n",
    "print(\"DataFrame after dropping rows with NaN values:\")\n",
    "print(df_dropped_na)"
   ]
  },
  {
   "cell_type": "code",
   "execution_count": 9,
   "id": "ffbbf672",
   "metadata": {},
   "outputs": [
    {
     "name": "stdout",
     "output_type": "stream",
     "text": [
      "DataFrame after filling NaN values with 0 and 99:\n",
      "     A     B       C\n",
      "0  1.0   5.0   apple\n",
      "1  2.0  99.0  banana\n",
      "2  0.0   7.0  cherry\n",
      "3  4.0   8.0    date\n"
     ]
    }
   ],
   "source": [
    "# 5. fillna 함수\n",
    "# NaN 값을 특정 값으로 채우기\n",
    "df_filled_na = df.fillna(value={'A': 0, 'B': 99})\n",
    "print(\"DataFrame after filling NaN values with 0 and 99:\")\n",
    "print(df_filled_na)"
   ]
  },
  {
   "cell_type": "code",
   "execution_count": 14,
   "id": "09d4b4f8",
   "metadata": {},
   "outputs": [
    {
     "name": "stdout",
     "output_type": "stream",
     "text": [
      "\n",
      "Sum of each column:\n",
      "A                      7.0\n",
      "B                     20.0\n",
      "C    applebananacherrydate\n",
      "dtype: object\n"
     ]
    }
   ],
   "source": [
    "# 6. apply 함수\n",
    "# 각 열에 함수 적용 (예: 각 열의 합)\n",
    "sum_by_column = df.apply(np.sum, axis=0)\n",
    "print(\"\\nSum of each column:\")\n",
    "print(sum_by_column)"
   ]
  }
 ],
 "metadata": {
  "kernelspec": {
   "display_name": "Python 3 (ipykernel)",
   "language": "python",
   "name": "python3"
  },
  "language_info": {
   "codemirror_mode": {
    "name": "ipython",
    "version": 3
   },
   "file_extension": ".py",
   "mimetype": "text/x-python",
   "name": "python",
   "nbconvert_exporter": "python",
   "pygments_lexer": "ipython3",
   "version": "3.11.4"
  }
 },
 "nbformat": 4,
 "nbformat_minor": 5
}
